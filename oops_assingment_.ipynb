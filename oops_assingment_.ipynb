{
  "nbformat": 4,
  "nbformat_minor": 0,
  "metadata": {
    "colab": {
      "provenance": []
    },
    "kernelspec": {
      "name": "python3",
      "display_name": "Python 3"
    },
    "language_info": {
      "name": "python"
    }
  },
  "cells": [
    {
      "cell_type": "markdown",
      "source": [
        "## **OOPs Assingnment Theory**"
      ],
      "metadata": {
        "id": "t8cto_tXqNzc"
      }
    },
    {
      "cell_type": "markdown",
      "source": [
        "#**Q1. What is Object-Oriented Programming (OOP)?**\n",
        "- OOP is a programming paradigm based on the concept of \"object\", which can contain data in the form of field (attributes) and code in form of methods (function). It provides principles like inheritance, encapsulation, polymorphism, and abstraction to design programs.\n"
      ],
      "metadata": {
        "id": "xbFbhvvPqJoU"
      }
    },
    {
      "cell_type": "markdown",
      "source": [
        "#**Q2. What is a class in OOP?**\n",
        "- A class is a blueprint or template for creating objects. It defines the properties (attributes ) and behaviors (methods) that the objects created from the class will have."
      ],
      "metadata": {
        "id": "rKxlnlNDrUQn"
      }
    },
    {
      "cell_type": "markdown",
      "source": [
        "#**Q3.What is an object in OOP?**\n",
        "- An object is an instance of a class that holds actual data and can perform action using methods defined in the class.\n",
        "\n",
        "#**Q4. What is the difference between abstraction and encapsulation?**\n",
        "- Abstraction focuses on hiding the complexity of a system and showing only the essential features.\n",
        "- Encapsulation is about bundling the data and methods that operate on the data into a single unit and\n",
        "restricting direct access to some components.\n",
        "\n",
        "#**Q5. What are dunder methods in Python?**\n",
        "- Dunder (double underscore) methods, also called magic methods, are special methods in Python with a\n",
        "double underscore before and after their name, such as ‘__init__’, ‘__str__’, and ‘__len__’. These methods\n",
        "allow customization of basic operations in a class.\n",
        "\n",
        "#**Q6. Explain the concept of inheritance in OOP?**\n",
        "-  Inheritance is the mechanism by which a class (child class) can derive properties and behaviors from\n",
        "another class (parent class). It allows code reuse and creates a hierarchy between classes.\n",
        "\n",
        "#**Q7.What is polymorphism in OOP?**\n",
        "-  Polymorphism means \"many forms\" and allows the same function or method to behave differently based on\n",
        "the object or data type. For example, method overloading and overriding are examples of polymorphism.\n",
        "\n",
        "#**Q8. How is encapsulation achieved in Python?**\n",
        "-  Encapsulation in Python is achieved using private and protected variables. Private variables are prefixed with\n",
        "‘__’, and protected variables are prefixed with ‘_’.\n",
        "\n",
        "#**Q9. What is a constructor in Python?**\n",
        "- A constructor is a special method in Python, defined as ‘__init__’, that is automatically called when an\n",
        "object of a class is created. It initializes the object’s attributes.\n",
        "\n",
        "#**Q10. What are class and static methods in Python?**\n",
        "-  Class methods: These are methods bound to the class, not the instance. They use the @classmethod\n",
        "decorator and take cls as the first parameter.\n",
        "- Static methods: These methods are not bound to the class or instance. They use the @staticmethod\n",
        "decorator and do not take self or cls as a parameter.\n",
        "\n",
        "#**Q11. What is method overloading in Python?**\n",
        "- Method overloading is the ability to define multiple methods in a class with the same name but different parameters. However, Python does not support traditional method overloading directly.\n"
      ],
      "metadata": {
        "id": "7Hx7HgU9sQp0"
      }
    },
    {
      "cell_type": "markdown",
      "source": [
        "#**Q12. What is method overriding in OOP?**\n",
        "- Method overriding occurs when a subclass defines a method with the same name as a method in its parent class, providing a new implementation.\n",
        "#**Q13. What is a property decorator in Python?**\n",
        "- A property decorator, @property, is used to make methods act like attributes. It allows getter, setter, and deleter functionality for managing attributes in an elegant way.\n",
        "#**Q14. Why is polymorphism important in OOP?**\n",
        "- Polymorphism allows for flexibility and reusability by letting objects of different types be treated as objects of a common supertype, thus enabling generic programming.\n",
        "#**Q15. What is an abstract class in Python?**\n",
        "- An abstract class is a class that cannot be instantiated and may contain one or more abstract methods. Abstract methods are declared using the @abstractmethod decorator and must be implemented in derived classes.\n",
        "#**Q16. What are the advantages of OOP?**\n",
        "- OOP provides advantages like code reusability, modularity, scalability, easy maintenance, and better data\n",
        "security through encapsulation.\n",
        "#**Q17. What is the difference between a class variable and an instance variable?**\n",
        "- Class variable: Shared by all instances of a class. Defined within the class but outside any methods.\n",
        "- Instance variable: Unique to each instance of a class. Defined inside a constructor or methods using self."
      ],
      "metadata": {
        "id": "VH0Tn4OBzH7f"
      }
    },
    {
      "cell_type": "markdown",
      "source": [
        "#**Q18. What is multiple inheritance in Python?**\n",
        "- Multiple inheritance is a feature in Python where a class can inherit attributes and methods from more than\n",
        "one parent class.\n",
        "\n",
        "#**Q19. Explain the purpose of ‘’__str__’ and ‘__repr__’ ‘ methods in Python?**\n",
        "- ‘__str__’: Used to provide a human-readable representation of an object, often used with the print()\n",
        "function\n",
        "- ‘__repr_’_: Used to provide a developer-friendly representation of an object, often used in debugging.\n",
        "\n",
        "#**Q20. What is the significance of the ‘super()’ function in Python?**\n",
        "- The super() function is used to call the parent class methods or constructor from the child class. It ensures proper initialization in the inheritance chain.\n",
        "\n",
        "#**Q21. What is the significance of the __del__ method in Python?**\n",
        "- ‘__del__’ method is a special method in Python that is called when an object is about to be destroyed. It is\n",
        "used for cleanup, such as releasing resources or closing files. However, its use is discouraged because it can\n",
        "lead to issues with reference counting.\n",
        "\n",
        "#**Q22. What is the difference between @staticmethod and @classmethod in Python?**\n",
        "- @staticmethod: Defines a method that does not require access to the instance or the class. It is independent\n",
        "of both\n",
        "- @classmethod: Defines a method that takes the class as its first parameter (cls). It can modify class-level attributes but cannot access instance-level attributes.\n",
        "\n",
        "#**Q23. How does polymorphism work in Python with inheritance?**\n",
        "- Polymorphism allows methods in different classes to have the same name but different implementations.\n",
        "With inheritance, subclasses can override a method from the parent class, enabling different behaviors for\n",
        "objects of different types.\n",
        "\n",
        "#**Q24. What is method chaining in Python OOP?**\n",
        "- Method chaining is a programming technique where multiple method calls are made in a single line, where\n",
        "each method returns the object itself (self). It allows you to call methods on an object one after another,\n",
        "making the code more concise.\n",
        "\n",
        "#**Q25. What is the purpose of the __call__ method in Python?**\n",
        "- The __call__ method allows an instance of a class to be called as a function. By implementing this method,\n",
        "you can make objects callable and pass arguments to them, essentially turning an object into a function"
      ],
      "metadata": {
        "id": "ugmZ98I60Qi9"
      }
    },
    {
      "cell_type": "markdown",
      "source": [
        "#**OPPs Practical**"
      ],
      "metadata": {
        "id": "7ZfXQJ1w11wU"
      }
    },
    {
      "cell_type": "markdown",
      "source": [
        "#**Q1. Creat a parent class Animal with a method speak() that prints a generic message. Create a child class Dog that overrides the speak() method to print \"Bark!\".**"
      ],
      "metadata": {
        "id": "gXA3Afk_2Ex3"
      }
    },
    {
      "cell_type": "code",
      "execution_count": null,
      "metadata": {
        "colab": {
          "base_uri": "https://localhost:8080/"
        },
        "id": "9hkHFvfOp-ot",
        "outputId": "b08714a9-a982-4a81-9815-16eb8a6fa97f"
      },
      "outputs": [
        {
          "output_type": "stream",
          "name": "stdout",
          "text": [
            "Bark!\n"
          ]
        }
      ],
      "source": [
        "class Animal:\n",
        "    def speak(self):\n",
        "      print(\"This animal speaks.\")\n",
        "\n",
        "class Dog(Animal):\n",
        "    def speak(self):\n",
        "      print(\"Bark!\")\n",
        "# Example usage\n",
        "obj = Dog()\n",
        "obj.speak()"
      ]
    },
    {
      "cell_type": "markdown",
      "source": [
        "#**Q2. Write a program to create an abstract class Shape with a method area(). Derive classes Circle and Rectangle from it and implement the area() method in both.**"
      ],
      "metadata": {
        "id": "kj2q30kR2D85"
      }
    },
    {
      "cell_type": "code",
      "source": [
        "from abc import ABC, abstractmethod\n",
        "\n",
        "class Shape(ABC):\n",
        "  @abstractmethod\n",
        "  def area(self):\n",
        "     pass\n",
        "\n",
        "class Circle(Shape):\n",
        "  def __init__(self, radius):\n",
        "    self.radius = radius\n",
        "\n",
        "  def area(self):\n",
        "    return 3.14159  * self.radius ** 2\n",
        "\n",
        "class Rectangle(Shape):\n",
        "  def __init__(self, length, width):\n",
        "    self.length = length\n",
        "    self.width = width\n",
        "\n",
        "  def area(self):\n",
        "    return self.length * self.width\n",
        "\n",
        "# Example usage\n",
        "circle = Circle(5)\n",
        "print(\"Area of circle:\", circle.area())\n",
        "\n",
        "rectangle = Rectangle(4,6)\n",
        "print(\"Area of Rectangle:\", rectangle.area())"
      ],
      "metadata": {
        "colab": {
          "base_uri": "https://localhost:8080/"
        },
        "id": "ay0UoHp03NXt",
        "outputId": "85003552-3d9e-4b01-af58-95a41f261ada"
      },
      "execution_count": null,
      "outputs": [
        {
          "output_type": "stream",
          "name": "stdout",
          "text": [
            "Area of circle: 78.53975\n",
            "Area of Rectangle: 24\n"
          ]
        }
      ]
    },
    {
      "cell_type": "markdown",
      "source": [
        "#**Q3. Implement a multi-level inheritance scenario where a class Vehicle has an attribute type. Derive a class Car and further derive a class ElectricCar that adds a battery attribute.**"
      ],
      "metadata": {
        "id": "I0Vajqyo7l0i"
      }
    },
    {
      "cell_type": "code",
      "source": [
        "class vehicle:\n",
        "  def __init__(self, type):\n",
        "    self.type = type\n",
        "\n",
        "class Car(vehicle):\n",
        "  def __init__(self, type, brand):\n",
        "    super().__init__(type)\n",
        "    self.brand = brand\n",
        "\n",
        "class ElectricCar(Car):\n",
        "  def __init__(self, type, brand, battery):\n",
        "    super().__init__(type, brand)\n",
        "    self.battery = battery\n",
        "\n",
        "# Example usege\n",
        "obj = ElectricCar(\"Car\", \"Tesla\", \"10 kWh\")\n",
        "print(f\"Type: {obj.type}, Brand: {obj.brand}, Battery: {obj.battery}\")\n",
        "\n"
      ],
      "metadata": {
        "colab": {
          "base_uri": "https://localhost:8080/"
        },
        "id": "UkLjdW-a5eAR",
        "outputId": "4c7d2a69-b7bb-4fe6-aa74-38ab9b9c6376"
      },
      "execution_count": null,
      "outputs": [
        {
          "output_type": "stream",
          "name": "stdout",
          "text": [
            "Type: Car, Brand: Tesla, Battery: 10 kWh\n"
          ]
        }
      ]
    },
    {
      "cell_type": "markdown",
      "source": [
        "#**Q4. Demonstrate polymorphism by creating a base class Bird with a method fly(). Create two derived classes Sparrow and Penguin that override the fly() method.**"
      ],
      "metadata": {
        "id": "zzEb41if927O"
      }
    },
    {
      "cell_type": "code",
      "source": [
        "class Bird:\n",
        "  def fly(self):\n",
        "    print(\"Some birds can fly.\")\n",
        "\n",
        "class Sparrow(Bird):\n",
        "  def fly(self):\n",
        "    print(\"Sparrows can fly high.\")\n",
        "\n",
        "class Penguin(Bird):\n",
        "  def fly(self):\n",
        "    print(\"Penguins cannot fly.\")\n",
        "\n",
        "# Example usage\n",
        "bird1 = Sparrow()\n",
        "bird2 = Penguin()\n",
        "\n",
        "bird1.fly()\n",
        "bird2.fly()"
      ],
      "metadata": {
        "colab": {
          "base_uri": "https://localhost:8080/"
        },
        "id": "J7o4EAII9xx_",
        "outputId": "25b7dbd8-a1bc-4686-930d-5eb47ffc0841"
      },
      "execution_count": null,
      "outputs": [
        {
          "output_type": "stream",
          "name": "stdout",
          "text": [
            "Sparrows can fly high.\n",
            "Penguins cannot fly.\n"
          ]
        }
      ]
    },
    {
      "cell_type": "markdown",
      "source": [
        "#**Q5. Write a program to demonstrate encapsulation by creating a class BankAccount with private attributes balance and methods to deposit, withdraw, and check balance.**"
      ],
      "metadata": {
        "id": "IALhFAPiVBtW"
      }
    },
    {
      "cell_type": "code",
      "source": [
        "class BankAccount:\n",
        "  def __init__(self):\n",
        "    self.__balance = 0\n",
        "\n",
        "  def deposit(self, amount):\n",
        "    self.__balance += amount\n",
        "\n",
        "  def withdraw(self, amount):\n",
        "    if amount <= self.__balance:\n",
        "      self.__balance -= amount\n",
        "    else:\n",
        "      print(\"Insufficient balance.\")\n",
        "\n",
        "  def chek_balance(self):\n",
        "    print(\"Balance:\", self.__balance)\n",
        "\n",
        "# Example usage\n",
        "account = BankAccount()\n",
        "account.deposit(1000)\n",
        "account.withdraw(500)\n",
        "account.chek_balance()"
      ],
      "metadata": {
        "colab": {
          "base_uri": "https://localhost:8080/"
        },
        "id": "dCn1pbx7_C39",
        "outputId": "018e6e35-74de-4801-d4a6-2935f91e388e"
      },
      "execution_count": null,
      "outputs": [
        {
          "output_type": "stream",
          "name": "stdout",
          "text": [
            "Balance: 500\n"
          ]
        }
      ]
    },
    {
      "cell_type": "markdown",
      "source": [
        "#**Q6. Demonstrate runtime polymorphism using a method play() in a base class Instrument. Derive classes Guitar and Piano that implement their own version of play().**"
      ],
      "metadata": {
        "id": "FgvXGhrUXeNX"
      }
    },
    {
      "cell_type": "code",
      "source": [
        "class Instrument:\n",
        "  def play(self):\n",
        "    print(\"Playing an instrument.\")\n",
        "\n",
        "class Guitar(Instrument):\n",
        "  def play(self):\n",
        "    print(\"playing a guitar.\")\n",
        "\n",
        "class Piano(Instrument):\n",
        "  def play(self):\n",
        "    print(\"Playing a piano.\")\n",
        "\n",
        "# Example usage\n",
        "instr1 = Guitar()\n",
        "instr2 = Piano()\n",
        "\n",
        "instr1.play()\n",
        "instr2.play()"
      ],
      "metadata": {
        "colab": {
          "base_uri": "https://localhost:8080/"
        },
        "id": "g-QzoXKvWs1i",
        "outputId": "c2d110e7-bb12-4698-83f9-b254e68b3436"
      },
      "execution_count": null,
      "outputs": [
        {
          "output_type": "stream",
          "name": "stdout",
          "text": [
            "playing a guitar.\n",
            "Playing a piano.\n"
          ]
        }
      ]
    },
    {
      "cell_type": "markdown",
      "source": [
        "#**Q7. Create a class MathOperations with a class method add_numbers() to add two numbers and a static method subtract_numbers() to subtract two numbers.**"
      ],
      "metadata": {
        "id": "E3CiDMlDZJUq"
      }
    },
    {
      "cell_type": "code",
      "source": [
        "# Code\n",
        "class MathOperations:\n",
        "  @classmethod\n",
        "  def add_numbers(cls, a, b):\n",
        "    return a + b\n",
        "\n",
        "  @staticmethod\n",
        "  def subtract_numbers(a, b):\n",
        "    return a - b\n",
        "\n",
        "# Example usage\n",
        "print(\"Addition:\", MathOperations.add_numbers(5, 3))\n",
        "print(\"subtraction:\", MathOperations.subtract_numbers(5, 3))"
      ],
      "metadata": {
        "colab": {
          "base_uri": "https://localhost:8080/"
        },
        "id": "qyHL890cY_5J",
        "outputId": "52c0f121-5ee1-4b40-fc67-0228db1b9f9b"
      },
      "execution_count": null,
      "outputs": [
        {
          "output_type": "stream",
          "name": "stdout",
          "text": [
            "Addition: 8\n",
            "subtraction: 2\n"
          ]
        }
      ]
    },
    {
      "cell_type": "markdown",
      "source": [
        "#**Q8. Implement a class Person with a class method to count the total number of persons created.**"
      ],
      "metadata": {
        "id": "yb_kNmRxaU-_"
      }
    },
    {
      "cell_type": "code",
      "source": [
        "class Person:\n",
        "  count = 0\n",
        "\n",
        "  def __init__(self):\n",
        "    Person.count += 1\n",
        "\n",
        "  @classmethod\n",
        "  def total_persons(cls):\n",
        "    return cls.count\n",
        "\n",
        "# Example usage\n",
        "p1 = Person()\n",
        "p2 = Person()\n",
        "print(\"Total Persons:\", Person.total_persons())"
      ],
      "metadata": {
        "colab": {
          "base_uri": "https://localhost:8080/"
        },
        "id": "8m_fDAiPaT0E",
        "outputId": "ae28bd7a-d2dc-4bc3-a5e9-e535df0250c4"
      },
      "execution_count": null,
      "outputs": [
        {
          "output_type": "stream",
          "name": "stdout",
          "text": [
            "Total Persons: 2\n"
          ]
        }
      ]
    },
    {
      "cell_type": "markdown",
      "source": [
        "#**Q9. Write a class Fraction with attributes numerator and denominator. Override the str method to display the fraction as \"numerator/denominator\".**"
      ],
      "metadata": {
        "id": "5ZK6eHwabzj_"
      }
    },
    {
      "cell_type": "code",
      "source": [
        "class Fraction:\n",
        "  def __init__(self, nunmerator, denominator):\n",
        "    self.numerator = nunmerator\n",
        "    self.denominator = denominator\n",
        "\n",
        "  def __str__(self):\n",
        "    return f\"{self.numerator}/{self.denominator}\"\n",
        "\n",
        "# Example usage\n",
        "obj = Fraction(3, 4)\n",
        "print(obj)\n"
      ],
      "metadata": {
        "colab": {
          "base_uri": "https://localhost:8080/"
        },
        "id": "FJXOz6MWbSzp",
        "outputId": "88799833-df0c-4e7f-da64-3c494eb20ae8"
      },
      "execution_count": null,
      "outputs": [
        {
          "output_type": "stream",
          "name": "stdout",
          "text": [
            "3/4\n"
          ]
        }
      ]
    },
    {
      "cell_type": "markdown",
      "source": [
        "#**Q10. Demonstrate operator overloading by creating a class Vector and overriding the add method to add two vectors.**"
      ],
      "metadata": {
        "id": "sK4epnF-dew-"
      }
    },
    {
      "cell_type": "code",
      "source": [
        "class Vector:\n",
        "  def __init__(self, x, y):\n",
        "    self.x = x\n",
        "    self.y = y\n",
        "\n",
        "  def __add__(self, other):\n",
        "    return Vector(self.x + other.x, self.y + other.y)\n",
        "\n",
        "  def __str__(self):\n",
        "    return f\"({self.x}, {self.y})\"\n",
        "\n",
        "# Example usage\n",
        "v1 = Vector(2, 3)\n",
        "v2 = Vector(4, 5)\n",
        "result = v1 + v2\n",
        "print(result)"
      ],
      "metadata": {
        "colab": {
          "base_uri": "https://localhost:8080/"
        },
        "id": "DQkDqDnNdTjF",
        "outputId": "85fec9a9-f0ba-426a-be3c-75a094df7447"
      },
      "execution_count": null,
      "outputs": [
        {
          "output_type": "stream",
          "name": "stdout",
          "text": [
            "(6, 8)\n"
          ]
        }
      ]
    },
    {
      "cell_type": "markdown",
      "source": [
        "#**Q11. Create a class Person with attributes name and age. Add a method greet() that prints \"Hello, my name is {name} and I am {age} years old.\"**"
      ],
      "metadata": {
        "id": "Wpy2FwRIeldw"
      }
    },
    {
      "cell_type": "code",
      "source": [
        "class Person:\n",
        "  def __init__(self, name, age):\n",
        "    self.name = name\n",
        "    self.age = age\n",
        "\n",
        "  def greet(self):\n",
        "    print(f\"Hello, my name is {self.name} and I am {self.age} years old.\")\n",
        "\n",
        "# Example usage\n",
        "p = Person(\"John\", 25)\n",
        "p.greet()"
      ],
      "metadata": {
        "colab": {
          "base_uri": "https://localhost:8080/"
        },
        "id": "l7x5Jq9tegqE",
        "outputId": "1658310e-eaff-4b91-b0f8-f2a34f8f1179"
      },
      "execution_count": null,
      "outputs": [
        {
          "output_type": "stream",
          "name": "stdout",
          "text": [
            "Hello, my name is John and I am 25 years old.\n"
          ]
        }
      ]
    },
    {
      "cell_type": "markdown",
      "source": [
        "#**Q12. Implement a class Student with attributes name and grades. Create a method average_grade() to compute the average of the grades.**\n",
        "\n"
      ],
      "metadata": {
        "id": "PI6CprYUfmN-"
      }
    },
    {
      "cell_type": "code",
      "source": [
        "class Student:\n",
        "  def __init__(self, name, grades):\n",
        "    self.name = name\n",
        "    self.grades = grades\n",
        "\n",
        "  def average_grade(self):\n",
        "    return sum(self.grades)/ len(self.grades)\n",
        "\n",
        "# Example usage\n",
        "student = Student(\"Sumit\", [50, 80, 90, 70])\n",
        "print(f\"Average Grade: {student.average_grade()}\")"
      ],
      "metadata": {
        "colab": {
          "base_uri": "https://localhost:8080/"
        },
        "id": "jCoUXqCefYvJ",
        "outputId": "1ea81269-6226-48f7-a6fe-ee88e31fa3ac"
      },
      "execution_count": null,
      "outputs": [
        {
          "output_type": "stream",
          "name": "stdout",
          "text": [
            "Average Grade: 72.5\n"
          ]
        }
      ]
    },
    {
      "cell_type": "markdown",
      "source": [
        "#**Q13. Create a class Rectangle with method set_dimensions() to set the dimensions and area() to calculate the area.**"
      ],
      "metadata": {
        "id": "85Pkp8qJg_V6"
      }
    },
    {
      "cell_type": "code",
      "source": [
        "class Rectangle:\n",
        "  def __init__(self, length=0, width=0):\n",
        "    self.length = length\n",
        "    self.width = width\n",
        "\n",
        "  def set_dimensions(self, length, width):\n",
        "    self.length = length\n",
        "    self.width = width\n",
        "\n",
        "  def area(self):\n",
        "    return self.length * self.width\n",
        "\n",
        "# Example usage\n",
        "rect = Rectangle()\n",
        "rect.set_dimensions(4, 5)\n",
        "print(f\"Area = {rect.area()}\")"
      ],
      "metadata": {
        "colab": {
          "base_uri": "https://localhost:8080/"
        },
        "id": "mBAdacFAgtmC",
        "outputId": "fab7b364-4563-41f7-fe9f-8a40a4c555a6"
      },
      "execution_count": null,
      "outputs": [
        {
          "output_type": "stream",
          "name": "stdout",
          "text": [
            "Area = 20\n"
          ]
        }
      ]
    },
    {
      "cell_type": "markdown",
      "source": [
        "#**Q14. Create a class Employee with a method calculate_salary() that computes the salary based on hours worked and hourly rate. Create a derived class Manager that adds a bonus to the salary.**"
      ],
      "metadata": {
        "id": "Qdpe7F8lp_lK"
      }
    },
    {
      "cell_type": "code",
      "source": [
        "class Employee:\n",
        "    def __init__(self, hours, hourly_rate):\n",
        "        self.hours = hours\n",
        "        self.hourly_rate = hourly_rate\n",
        "\n",
        "    def calculate_salary(self):\n",
        "        return self.hours * self.hourly_rate\n",
        "\n",
        "class Manager(Employee):\n",
        "    def __init__(self, hours, hourly_rate, bonus):\n",
        "        super().__init__(hours, hourly_rate)\n",
        "        self.bonus = bonus\n",
        "\n",
        "    def calculate_salary(self):\n",
        "        return super().calculate_salary() + self.bonus\n",
        "\n",
        "# Example usage\n",
        "manager = Manager(160, 30, 500)\n",
        "print(f\"Salary: {manager.calculate_salary()}\")"
      ],
      "metadata": {
        "colab": {
          "base_uri": "https://localhost:8080/"
        },
        "id": "kSYzDMlgqGxF",
        "outputId": "628f7f7b-4918-4da7-ff11-0d062456c4dd"
      },
      "execution_count": null,
      "outputs": [
        {
          "output_type": "stream",
          "name": "stdout",
          "text": [
            "Salary: 5300\n"
          ]
        }
      ]
    },
    {
      "cell_type": "markdown",
      "source": [
        "#**Q15. Create a class Product with attributes name, price, and quantity. Implement a method total_price() that calculates the total price of the product.**"
      ],
      "metadata": {
        "id": "-ea9SyY_ienE"
      }
    },
    {
      "cell_type": "code",
      "source": [
        "class Product:\n",
        "  def __init__(self, name, price, quantity):\n",
        "    self.name = name\n",
        "    self.price = price\n",
        "    self.quantity = quantity\n",
        "\n",
        "  def total_price(self):\n",
        "    return self.price * self.quantity\n",
        "\n",
        "# Example usage\n",
        "product = Product(\"Laptop\", 1000, 2)\n",
        "print(f\"Total Price: {product.total_price()}\")"
      ],
      "metadata": {
        "colab": {
          "base_uri": "https://localhost:8080/"
        },
        "id": "QDV20H5vibkR",
        "outputId": "eefabcf1-9d2d-4819-cfb0-550692635190"
      },
      "execution_count": null,
      "outputs": [
        {
          "output_type": "stream",
          "name": "stdout",
          "text": [
            "Total Price: 2000\n"
          ]
        }
      ]
    },
    {
      "cell_type": "markdown",
      "source": [
        "#**Q16. Create a class Animal with an abstract method sound(). Create two derived classes Cow and Sheep that implement the sound() method.**"
      ],
      "metadata": {
        "id": "hpvgRSIhjusT"
      }
    },
    {
      "cell_type": "code",
      "source": [
        "from abc import ABC, abstractmethod\n",
        "\n",
        "class Animal(ABC):\n",
        "  @abstractmethod\n",
        "  def sound(self):\n",
        "    pass\n",
        "\n",
        "class Cow(Animal):\n",
        "  def sound(self):\n",
        "    print(\"Moo!\")\n",
        "\n",
        "class Sheep(Animal):\n",
        "  def sound(self):\n",
        "    print(\"Baa!\")\n",
        "\n",
        "# Example usage\n",
        "cow = Cow()\n",
        "sheep = Sheep()\n",
        "cow.sound()\n",
        "sheep.sound()"
      ],
      "metadata": {
        "colab": {
          "base_uri": "https://localhost:8080/"
        },
        "id": "SVA2HEgcjsbh",
        "outputId": "8db5f9c9-094d-4f6e-f333-cc46f657aa26"
      },
      "execution_count": null,
      "outputs": [
        {
          "output_type": "stream",
          "name": "stdout",
          "text": [
            "Moo!\n",
            "Baa!\n"
          ]
        }
      ]
    },
    {
      "cell_type": "markdown",
      "source": [
        "#**Q17. Creat a class Book with attribute title, author, and year_published. Add a method get_book_info() that returns a formatted string with the book's details.**"
      ],
      "metadata": {
        "id": "qZx_UeH2lBul"
      }
    },
    {
      "cell_type": "code",
      "source": [
        "class Book:\n",
        "  def __init__(self, title, author, year_published):\n",
        "    self.title = title\n",
        "    self.author = author\n",
        "    self.year_published = year_published\n",
        "\n",
        "  def get_book_info(self):\n",
        "    return f\"Title: {self.title}, Author: {self.author}, Year published: {self.year_published}\"\n",
        "\n",
        "# Example usage\n",
        "book = Book(\"1984\", \"George Orwell\", 1949)\n",
        "print(book.get_book_info())"
      ],
      "metadata": {
        "colab": {
          "base_uri": "https://localhost:8080/"
        },
        "id": "O4sfFg9Ok_jj",
        "outputId": "f06eb437-ee74-4a28-eaa8-72b5869f9ea6"
      },
      "execution_count": null,
      "outputs": [
        {
          "output_type": "stream",
          "name": "stdout",
          "text": [
            "Title: 1984, Author: George Orwell, Year published: 1949\n"
          ]
        }
      ]
    },
    {
      "cell_type": "markdown",
      "source": [
        "#**Q18. Create a class House with attributes address and price. Create a derived class Mansion that adds an attribute number_of_rooms.**"
      ],
      "metadata": {
        "id": "svRnds80mwVV"
      }
    },
    {
      "cell_type": "code",
      "source": [
        "class House:\n",
        "    def __init__(self, address, price):\n",
        "        self.address = address\n",
        "        self.price = price\n",
        "\n",
        "class Mansion(House):\n",
        "    def __init__(self, address, price, number_of_rooms):\n",
        "        super().__init__(address, price)\n",
        "        self.number_of_rooms = number_of_rooms\n",
        "\n",
        "# Example usage\n",
        "mansion = Mansion(\"123 Luxury St\", 5000000, 10)\n",
        "print(f\"Address: {mansion.address}, Price: {mansion.price}, Rooms: {mansion.number_of_rooms}\")"
      ],
      "metadata": {
        "colab": {
          "base_uri": "https://localhost:8080/"
        },
        "id": "S4F-GRrpmpQM",
        "outputId": "55b653da-e53f-4883-a0b9-882ccb51361b"
      },
      "execution_count": null,
      "outputs": [
        {
          "output_type": "stream",
          "name": "stdout",
          "text": [
            "Address: 123 Luxury St, Price: 5000000, Rooms: 10\n"
          ]
        }
      ]
    },
    {
      "cell_type": "code",
      "source": [],
      "metadata": {
        "id": "3W9waCNwnCjl"
      },
      "execution_count": null,
      "outputs": []
    }
  ]
}